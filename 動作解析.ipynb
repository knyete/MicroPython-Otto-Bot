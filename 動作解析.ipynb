{
 "cells": [
  {
   "cell_type": "markdown",
   "metadata": {},
   "source": [
    "# 解析OTTO arduino source 學習 OTTO控制\n",
    "\n",
    "## 目標: 把有興趣的動作移植到MicroPython上"
   ]
  },
  {
   "cell_type": "markdown",
   "metadata": {},
   "source": [
    "----\n",
    "\n",
    "### https://github.com/OttoDIY/DIY/blob/master/libraries/Otto/Otto.cpp\n"
   ]
  },
  {
   "cell_type": "markdown",
   "metadata": {},
   "source": [
    "- 控制每個 serve 一到哪個角度\n",
    "- servo_target --> 一次 4 servo\n",
    "- servo_position 平時會記下目前角度 --> 程式開始要歸零 （立正)\n",
    "- time 表示多久要到目標角度\n",
    "- "
   ]
  },
  {
   "cell_type": "code",
   "execution_count": null,
   "metadata": {},
   "outputs": [],
   "source": [
    "void Otto::_moveServos(int time, int  servo_target[]) {\n",
    "\n",
    "  attachServos();\n",
    "  if(getRestState()==true){\n",
    "        setRestState(false);\n",
    "  }\n",
    "\n",
    "  if(time>10){\n",
    "    for (int i = 0; i < 4; i++) increment[i] = ((servo_target[i]) - servo_position[i]) / (time / 10.0);\n",
    "    final_time =  millis() + time;\n",
    "\n",
    "    for (int iteration = 1; millis() < final_time; iteration++) {\n",
    "      partial_time = millis() + 10;\n",
    "      for (int i = 0; i < 4; i++) servo[i].SetPosition(servo_position[i] + (iteration * increment[i]));\n",
    "      while (millis() < partial_time); //pause\n",
    "    }\n",
    "  }\n",
    "  else{\n",
    "    for (int i = 0; i < 4; i++) servo[i].SetPosition(servo_target[i]);\n",
    "  }\n",
    "  for (int i = 0; i < 4; i++) servo_position[i] = servo_target[i];\n",
    "}"
   ]
  },
  {
   "cell_type": "markdown",
   "metadata": {},
   "source": [
    "- 這個function應該是做來回擺的動作"
   ]
  },
  {
   "cell_type": "code",
   "execution_count": null,
   "metadata": {},
   "outputs": [],
   "source": [
    "void Otto::oscillateServos(int A[4], int O[4], int T, double phase_diff[4], float cycle=1){\n",
    "\n",
    "  for (int i=0; i<4; i++) {\n",
    "    servo[i].SetO(O[i]);\n",
    "    servo[i].SetA(A[i]);\n",
    "    servo[i].SetT(T);\n",
    "    servo[i].SetPh(phase_diff[i]);\n",
    "  }\n",
    "  double ref=millis();\n",
    "   for (double x=ref; x<=T*cycle+ref; x=millis()){\n",
    "     for (int i=0; i<4; i++){\n",
    "        servo[i].refresh();\n",
    "     }\n",
    "  }\n",
    "}"
   ]
  },
  {
   "cell_type": "markdown",
   "metadata": {},
   "source": [
    "- reset position --> 也就是\"立正\"的動作"
   ]
  },
  {
   "cell_type": "code",
   "execution_count": null,
   "metadata": {},
   "outputs": [],
   "source": [
    "void Otto::home(){\n",
    "\n",
    "  if(isOttoResting==false){ //Go to rest position only if necessary\n",
    "\n",
    "    int homes[4]={90, 90, 90, 90}; //All the servos at rest position\n",
    "    _moveServos(500,homes);   //Move the servos in half a second\n",
    "\n",
    "    detachServos();\n",
    "    isOttoResting=true;\n",
    "  }\n",
    "}\n"
   ]
  },
  {
   "cell_type": "markdown",
   "metadata": {},
   "source": [
    "- Jump動作\n",
    "- "
   ]
  },
  {
   "cell_type": "code",
   "execution_count": null,
   "metadata": {},
   "outputs": [],
   "source": [
    "//---------------------------------------------------------\n",
    "//-- Otto movement: Jump\n",
    "//--  Parameters:\n",
    "//--    steps: Number of steps\n",
    "//--    T: Period\n",
    "//---------------------------------------------------------\n",
    "void Otto::jump(float steps, int T){\n",
    "\n",
    "  int up[]={90,90,150,30};\n",
    "  _moveServos(T,up);\n",
    "  int down[]={90,90,90,90};\n",
    "  _moveServos(T,down);\n",
    "}"
   ]
  },
  {
   "cell_type": "markdown",
   "metadata": {},
   "source": [
    "- Walk\n",
    "- 看起來像是4 servo同時轉某個角度再轉回來"
   ]
  },
  {
   "cell_type": "code",
   "execution_count": null,
   "metadata": {},
   "outputs": [],
   "source": [
    "void Otto::walk(float steps, int T, int dir){\n",
    "\n",
    "  //-- Oscillator parameters for walking\n",
    "  //-- Hip sevos are in phase\n",
    "  //-- Feet servos are in phase\n",
    "  //-- Hip and feet are 90 degrees out of phase\n",
    "  //--      -90 : Walk forward\n",
    "  //--       90 : Walk backward\n",
    "  //-- Feet servos also have the same offset (for tiptoe a little bit)\n",
    "  int A[4]= {30, 30, 20, 20};\n",
    "  int O[4] = {0, 0, 4, -4};\n",
    "  double phase_diff[4] = {0, 0, DEG2RAD(dir * -90), DEG2RAD(dir * -90)};\n",
    "\n",
    "  //-- Let's oscillate the servos!\n",
    "  _execute(A, O, T, phase_diff, steps);  \n",
    "}\n"
   ]
  }
 ],
 "metadata": {
  "kernelspec": {
   "display_name": "Python 3",
   "language": "python",
   "name": "python3"
  },
  "language_info": {
   "codemirror_mode": {
    "name": "ipython",
    "version": 3
   },
   "file_extension": ".py",
   "mimetype": "text/x-python",
   "name": "python",
   "nbconvert_exporter": "python",
   "pygments_lexer": "ipython3",
   "version": "3.5.3"
  }
 },
 "nbformat": 4,
 "nbformat_minor": 2
}
