{
 "cells": [
  {
   "cell_type": "markdown",
   "metadata": {},
   "source": [
    "# MicroPython玩 otto 機器人"
   ]
  },
  {
   "cell_type": "markdown",
   "metadata": {},
   "source": [
    "## OTTO (O++O) 機器人\n",
    "\n",
    "![otto](image/my-otto.jpg)\n",
    "\n",
    "### 使用4個servo (伺服馬達)、一個超音波sensor\n",
    "\n",
    "- 超音波sensor目前只是當眼睛裝飾用、未來在機器人走路時才會有避障的功能\n",
    "\n",
    "    - 超音波使用腳位為 (D7, D8) --> (trig, echo)\n",
    "\n",
    "- 目前使用的的馬達(SG90)如下圖:\n",
    "\n",
    "    - 4個servo分別是：左腿、左腳、右腿、右腳\n",
    "    - 對應的GPIO為 D1, D2, D3, D4\n",
    "\n",
    "![SG90](image/SG90-servo.jpg)\n",
    "\n",
    "- 加入蜂鳴器(Buzzer)\n",
    "\n",
    "    - Buzzer (D6 --> GPIO12)\n",
    "\n"
   ]
  },
  {
   "cell_type": "code",
   "execution_count": 8,
   "metadata": {},
   "outputs": [
    {
     "name": "stdout",
     "output_type": "stream",
     "text": [
      "\u001b[34m** WebSocket connected **\n",
      "\u001b[0mPassword: \n",
      "WebREPL connected\n",
      ">>> \u001b[34mReady.\n",
      "\u001b[0m"
     ]
    }
   ],
   "source": [
    "%websocketconnect --password 1234 ws://192.168.43.230:8266"
   ]
  },
  {
   "cell_type": "code",
   "execution_count": 9,
   "metadata": {},
   "outputs": [],
   "source": [
    "# 定義\n",
    "from machine import Pin\n",
    "from machine import PWM\n",
    "import time\n",
    "\n",
    "# PIN Define:\n",
    "D0 = 16\n",
    "D1 = 5  #PWM\n",
    "D2 = 4  #PWM\n",
    "D3 = 0  #PWM\n",
    "D4 = 2  #PWM, #Led on board\n",
    "D5 = 14 #PWM\n",
    "D6 = 12 #PWM\n",
    "D7 = 13 #PWM\n",
    "D8 = 15 #PWM\n"
   ]
  },
  {
   "cell_type": "code",
   "execution_count": 10,
   "metadata": {},
   "outputs": [],
   "source": [
    "# angle define\n",
    "ang0=40\n",
    "ang90=77\n",
    "ang180=115"
   ]
  },
  {
   "cell_type": "markdown",
   "metadata": {},
   "source": [
    "### 開始測試四個關節\n"
   ]
  },
  {
   "cell_type": "code",
   "execution_count": 4,
   "metadata": {},
   "outputs": [],
   "source": [
    "# 定義四個關節名稱\n",
    "Lpad = PWM(Pin(D1), freq=50) # up servo of left foot\n",
    "Lleg = PWM(Pin(D2), freq=50) # bottom servo of left foot (Footpad)\n",
    "Rpad = PWM(Pin(D3), freq=50) # up servo of right foot\n",
    "Rleg = PWM(Pin(D4), freq=50) # bottom servo of right foot (Footpad)\n"
   ]
  },
  {
   "cell_type": "code",
   "execution_count": 5,
   "metadata": {},
   "outputs": [],
   "source": [
    "# 立正\n",
    "Lleg.duty(ang90)\n",
    "Lpad.duty(ang90)\n",
    "Rleg.duty(ang90)\n",
    "Rpad.duty(ang90)"
   ]
  },
  {
   "cell_type": "markdown",
   "metadata": {},
   "source": [
    "### 四個部位都動一動"
   ]
  },
  {
   "cell_type": "code",
   "execution_count": 7,
   "metadata": {},
   "outputs": [],
   "source": [
    "# L-leg\n",
    "Lleg.duty(ang0)\n",
    "time.sleep(2)\n",
    "Lleg.duty(ang180)\n",
    "time.sleep(2)\n",
    "Lleg.duty(ang90)"
   ]
  },
  {
   "cell_type": "code",
   "execution_count": 8,
   "metadata": {},
   "outputs": [
    {
     "name": "stdout",
     "output_type": "stream",
     "text": [
      "."
     ]
    }
   ],
   "source": [
    "# L-pad\n",
    "Lpad.duty(ang0)\n",
    "time.sleep(2)\n",
    "Lpad.duty(ang180)\n",
    "time.sleep(2)\n",
    "Lpad.duty(ang90)"
   ]
  },
  {
   "cell_type": "code",
   "execution_count": 9,
   "metadata": {},
   "outputs": [
    {
     "name": "stdout",
     "output_type": "stream",
     "text": [
      "."
     ]
    }
   ],
   "source": [
    "# R-leg\n",
    "Rleg.duty(ang0)\n",
    "time.sleep(2)\n",
    "Rleg.duty(ang180)\n",
    "time.sleep(2)\n",
    "Rleg.duty(ang90)"
   ]
  },
  {
   "cell_type": "code",
   "execution_count": 10,
   "metadata": {
    "scrolled": true
   },
   "outputs": [
    {
     "name": "stdout",
     "output_type": "stream",
     "text": [
      "."
     ]
    }
   ],
   "source": [
    "# R-pad\n",
    "Rpad.duty(ang0)\n",
    "time.sleep(2)\n",
    "Rpad.duty(ang180)\n",
    "time.sleep(2)\n",
    "Rpad.duty(ang90)"
   ]
  },
  {
   "cell_type": "markdown",
   "metadata": {},
   "source": [
    "### 設計一些動作\n",
    "\n",
    "- 左腳掌 正向(90+) 抬起\n",
    "- 右腳掌 負向(90-) 抬起"
   ]
  },
  {
   "cell_type": "code",
   "execution_count": 12,
   "metadata": {},
   "outputs": [],
   "source": [
    "Lpad.duty(ang90+20) # 內抬起"
   ]
  },
  {
   "cell_type": "code",
   "execution_count": 13,
   "metadata": {},
   "outputs": [],
   "source": [
    "Lpad.duty(ang90-20) # 外抬起"
   ]
  },
  {
   "cell_type": "code",
   "execution_count": 14,
   "metadata": {},
   "outputs": [],
   "source": [
    "Lpad.duty(ang90)"
   ]
  },
  {
   "cell_type": "code",
   "execution_count": 6,
   "metadata": {},
   "outputs": [],
   "source": [
    "# 踩踩左腳掌\n",
    "for j in range(4):\n",
    "    Lpad.duty(ang90-10)\n",
    "    time.sleep(0.2)\n",
    "    Lpad.duty(ang90)\n",
    "    time.sleep(0.2)\n",
    "    "
   ]
  },
  {
   "cell_type": "code",
   "execution_count": 7,
   "metadata": {},
   "outputs": [],
   "source": [
    "# 踩踩右腳掌\n",
    "for j in range(4):\n",
    "    Rpad.duty(ang90+10)\n",
    "    time.sleep(0.2)\n",
    "    Rpad.duty(ang90)\n",
    "    time.sleep(0.2)\n",
    "    "
   ]
  },
  {
   "cell_type": "markdown",
   "metadata": {},
   "source": [
    "## 測試眼睛 - 超音波sensor"
   ]
  },
  {
   "cell_type": "code",
   "execution_count": 10,
   "metadata": {
    "collapsed": true
   },
   "outputs": [],
   "source": [
    "def ping(trigPin, echoPin):\n",
    "    '''\n",
    "        return: distance (cm)\n",
    "    '''\n",
    "    trig=Pin(trigPin, Pin.OUT)\n",
    "    echo=Pin(echoPin, Pin.IN)\n",
    "    trig.value(1)\n",
    "    time.sleep_us(10)\n",
    "    trig.value(0)\n",
    "    timeout=False\n",
    "    tm_start=time.ticks_us() \n",
    "    while not echo.value(): #wait for HIGH, 3000us timeout\n",
    "        if(time.ticks_diff(time.ticks_us(), tm_start)>3000):\n",
    "            timeout=True\n",
    "            break\n",
    "    if timeout: #timeout return 0\n",
    "        pass\n",
    "    else: #got HIGH pulse:calculate duration\n",
    "        tm_start=time.ticks_us()\n",
    "        tm_delta = 0\n",
    "        while echo.value(): #wait for LOW\n",
    "            tm_delta = time.ticks_diff(time.ticks_us(), tm_start)\n",
    "            if(tm_delta>3000):\n",
    "                timeout=True\n",
    "                break\n",
    "        if timeout:\n",
    "            pass\n",
    "        else:\n",
    "            tm_delta = time.ticks_diff(time.ticks_us(), tm_start)\n",
    "            duration=tm_delta\n",
    "    \n",
    "    if timeout:\n",
    "        return 999 #cm, for timeout\n",
    "        \n",
    "    return duration/58"
   ]
  },
  {
   "cell_type": "code",
   "execution_count": 16,
   "metadata": {},
   "outputs": [
    {
     "name": "stdout",
     "output_type": "stream",
     "text": [
      "7.63793\r\n"
     ]
    }
   ],
   "source": [
    "print(ping(trigPin=D7,echoPin=D8))"
   ]
  },
  {
   "cell_type": "markdown",
   "metadata": {},
   "source": [
    "## 測試蜂鳴器(Buzzer) @D6"
   ]
  },
  {
   "cell_type": "code",
   "execution_count": 11,
   "metadata": {},
   "outputs": [
    {
     "name": "stdout",
     "output_type": "stream",
     "text": [
      ".."
     ]
    }
   ],
   "source": [
    "# 電話鈴聲\n",
    "\n",
    "from machine import Pin,PWM\n",
    "import time\n",
    "\n",
    "def ringTone(pwm):\n",
    "    for i in range(1,11):\n",
    "        pwm.freq(1000)\n",
    "        pwm.duty(512)\n",
    "        time.sleep_ms(50)\n",
    "        pwm.freq(500)\n",
    "        time.sleep_ms(50)\n",
    "    pwm.deinit()\n",
    "    time.sleep(2)\n",
    "\n",
    "pwm=PWM(Pin(D6))\n",
    "\n",
    "for i in range(4):\n",
    "    ringTone(pwm)"
   ]
  },
  {
   "cell_type": "markdown",
   "metadata": {
    "collapsed": true
   },
   "source": [
    "----\n",
    "### 定義函式來控制馬達角度"
   ]
  },
  {
   "cell_type": "code",
   "execution_count": 46,
   "metadata": {
    "collapsed": true
   },
   "outputs": [],
   "source": [
    "def servo_ang(pwn_pin, ang):\n",
    "    ang0=40\n",
    "    ang90=77\n",
    "    ang180=115\n",
    "    value = int(ang0+(ang180-ang0)*ang/180)\n",
    "    pwn_pin.duty(value)"
   ]
  }
 ],
 "metadata": {
  "kernelspec": {
   "display_name": "MicroPython - USB",
   "language": "micropython",
   "name": "micropython"
  },
  "language_info": {
   "codemirror_mode": "python",
   "file_extension": ".py",
   "mimetype": "text/python",
   "name": "micropython"
  }
 },
 "nbformat": 4,
 "nbformat_minor": 2
}
